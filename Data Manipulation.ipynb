{
 "cells": [
  {
   "cell_type": "markdown",
   "metadata": {},
   "source": [
    "# Setup Packages"
   ]
  },
  {
   "cell_type": "code",
   "execution_count": 1,
   "metadata": {
    "scrolled": true
   },
   "outputs": [
    {
     "name": "stdout",
     "output_type": "stream",
     "text": [
      "Collecting awscli\n",
      "  Downloading awscli-1.18.31-py2.py3-none-any.whl (3.0 MB)\n",
      "Collecting botocore==1.15.31\n",
      "  Downloading botocore-1.15.31-py2.py3-none-any.whl (6.0 MB)\n",
      "Collecting docutils<0.16,>=0.10\n",
      "  Downloading docutils-0.15.2-py3-none-any.whl (547 kB)\n",
      "Collecting rsa<=3.5.0,>=3.1.2\n",
      "  Downloading rsa-3.4.2-py2.py3-none-any.whl (46 kB)\n",
      "Requirement already satisfied: colorama<0.4.4,>=0.2.5; python_version != \"3.4\" in c:\\users\\diego\\miniconda3\\envs\\dl-cpu\\lib\\site-packages (from awscli) (0.4.3)\n",
      "Collecting s3transfer<0.4.0,>=0.3.0\n",
      "  Downloading s3transfer-0.3.3-py2.py3-none-any.whl (69 kB)\n",
      "Collecting PyYAML<5.4,>=3.10; python_version != \"3.4\"\n",
      "  Downloading PyYAML-5.3.1-cp38-cp38-win_amd64.whl (219 kB)\n",
      "Requirement already satisfied: python-dateutil<3.0.0,>=2.1 in c:\\users\\diego\\miniconda3\\envs\\dl-cpu\\lib\\site-packages (from botocore==1.15.31->awscli) (2.8.1)\n",
      "Collecting jmespath<1.0.0,>=0.7.1\n",
      "  Downloading jmespath-0.9.5-py2.py3-none-any.whl (24 kB)\n",
      "Collecting urllib3<1.26,>=1.20; python_version != \"3.4\"\n",
      "  Downloading urllib3-1.25.8-py2.py3-none-any.whl (125 kB)\n",
      "Collecting pyasn1>=0.1.3\n",
      "  Downloading pyasn1-0.4.8-py2.py3-none-any.whl (77 kB)\n",
      "Requirement already satisfied: six>=1.5 in c:\\users\\diego\\miniconda3\\envs\\dl-cpu\\lib\\site-packages (from python-dateutil<3.0.0,>=2.1->botocore==1.15.31->awscli) (1.14.0)\n",
      "Installing collected packages: docutils, jmespath, urllib3, botocore, pyasn1, rsa, s3transfer, PyYAML, awscli\n",
      "Successfully installed PyYAML-5.3.1 awscli-1.18.31 botocore-1.15.31 docutils-0.15.2 jmespath-0.9.5 pyasn1-0.4.8 rsa-3.4.2 s3transfer-0.3.3 urllib3-1.25.8\n"
     ]
    }
   ],
   "source": [
    "# !pip install awscli"
   ]
  },
  {
   "cell_type": "code",
   "execution_count": 1,
   "metadata": {},
   "outputs": [],
   "source": [
    "import matplotlib.pyplot as plt\n",
    "import numpy as np\n",
    "import cv2\n",
    "import random\n",
    "import os\n",
    "import pandas as pd"
   ]
  },
  {
   "cell_type": "code",
   "execution_count": 2,
   "metadata": {},
   "outputs": [],
   "source": [
    "# !python -m wget \"https://storage.googleapis.com/openimages/2018_04/class-descriptions-boxable.csv\"\n",
    "\n",
    "# !python -m wget \"https://storage.googleapis.com/openimages/2018_04/train/train-annotations-bbox.csv\"\n",
    "\n",
    "# !python -m wget \"https://storage.googleapis.com/openimages/2018_04/validation/validation-annotations-bbox.csv\n",
    "\n",
    "# !python -m wget \"https://storage.googleapis.com/openimages/2018_04/test/test-annotations-bbox.csv\""
   ]
  },
  {
   "cell_type": "code",
   "execution_count": 3,
   "metadata": {},
   "outputs": [],
   "source": [
    "subset_classes = [\n",
    "    \"Human eye\"\n",
    "    \"Human beard\"\n",
    "    \"Human mouth\"\n",
    "    \"Human body\"\n",
    "    \"Human foot\"\n",
    "    \"Human leg\"\n",
    "    \"Human ear\"\n",
    "    \"Human hair\"\n",
    "    \"Human head\"\n",
    "    \"Human face\"\n",
    "    \"Human arm\"\n",
    "    \"Human nose\"\n",
    "    \"Human hand\"\n",
    "]"
   ]
  },
  {
   "cell_type": "markdown",
   "metadata": {},
   "source": [
    "When you do it for your own set of classes, make sure that if there is a space in the class name, it is replaced by an underscore(‘_’). In the above example, we replaced the ‘Ice cream’ class name with ‘Ice_cream’."
   ]
  },
  {
   "cell_type": "markdown",
   "metadata": {},
   "source": [
    "### Test for a one class"
   ]
  },
  {
   "cell_type": "code",
   "execution_count": 4,
   "metadata": {},
   "outputs": [
    {
     "name": "stderr",
     "output_type": "stream",
     "text": [
      "Python was not found but can be installed from the Microsoft Store: https://go.microsoft.com/fwlink?linkID=2082640\n",
      "Python was not found but can be installed from the Microsoft Store: https://go.microsoft.com/fwlink?linkID=2082640\n"
     ]
    }
   ],
   "source": [
    "!python3 downloadOI.py --classes '\"Human_eye\"' --dataset train\n",
    "!python3 downloadOI.py --classes '\"Human_eye\"' --dataset validation"
   ]
  },
  {
   "cell_type": "code",
   "execution_count": null,
   "metadata": {},
   "outputs": [],
   "source": []
  }
 ],
 "metadata": {
  "kernelspec": {
   "display_name": "Python 3",
   "language": "python",
   "name": "python3"
  },
  "language_info": {
   "codemirror_mode": {
    "name": "ipython",
    "version": 3
   },
   "file_extension": ".py",
   "mimetype": "text/x-python",
   "name": "python",
   "nbconvert_exporter": "python",
   "pygments_lexer": "ipython3",
   "version": "3.8.2"
  }
 },
 "nbformat": 4,
 "nbformat_minor": 4
}
